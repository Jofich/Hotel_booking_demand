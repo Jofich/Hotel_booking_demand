{
 "cells": [
  {
   "cell_type": "code",
   "execution_count": 1,
   "id": "9d66cfa9",
   "metadata": {},
   "outputs": [],
   "source": [
    "import pandas as pd\n",
    "import seaborn as sns\n",
    "import matplotlib.pyplot as plt"
   ]
  },
  {
   "cell_type": "code",
   "execution_count": 140,
   "id": "967af6d9",
   "metadata": {},
   "outputs": [],
   "source": [
    "#читаем данные\n",
    "train = pd.read_csv('train_final.csv')\n",
    "test = pd.read_csv('test_final.csv')"
   ]
  },
  {
   "cell_type": "code",
   "execution_count": 121,
   "id": "6e82bda7",
   "metadata": {},
   "outputs": [
    {
     "data": {
      "text/html": [
       "<div>\n",
       "<style scoped>\n",
       "    .dataframe tbody tr th:only-of-type {\n",
       "        vertical-align: middle;\n",
       "    }\n",
       "\n",
       "    .dataframe tbody tr th {\n",
       "        vertical-align: top;\n",
       "    }\n",
       "\n",
       "    .dataframe thead th {\n",
       "        text-align: right;\n",
       "    }\n",
       "</style>\n",
       "<table border=\"1\" class=\"dataframe\">\n",
       "  <thead>\n",
       "    <tr style=\"text-align: right;\">\n",
       "      <th></th>\n",
       "      <th>hotel</th>\n",
       "      <th>is_canceled</th>\n",
       "      <th>lead_time</th>\n",
       "      <th>arrival_date_year</th>\n",
       "      <th>arrival_date_month</th>\n",
       "      <th>arrival_date_week_number</th>\n",
       "      <th>arrival_date_day_of_month</th>\n",
       "      <th>stays_in_weekend_nights</th>\n",
       "      <th>stays_in_week_nights</th>\n",
       "      <th>adults</th>\n",
       "      <th>...</th>\n",
       "      <th>reserved_room_type</th>\n",
       "      <th>assigned_room_type</th>\n",
       "      <th>booking_changes</th>\n",
       "      <th>deposit_type</th>\n",
       "      <th>days_in_waiting_list</th>\n",
       "      <th>customer_type</th>\n",
       "      <th>adr</th>\n",
       "      <th>required_car_parking_spaces</th>\n",
       "      <th>total_of_special_requests</th>\n",
       "      <th>reservation_status_date</th>\n",
       "    </tr>\n",
       "  </thead>\n",
       "  <tbody>\n",
       "    <tr>\n",
       "      <th>0</th>\n",
       "      <td>Resort Hotel</td>\n",
       "      <td>0</td>\n",
       "      <td>3</td>\n",
       "      <td>2016</td>\n",
       "      <td>February</td>\n",
       "      <td>7</td>\n",
       "      <td>12</td>\n",
       "      <td>0</td>\n",
       "      <td>2</td>\n",
       "      <td>2</td>\n",
       "      <td>...</td>\n",
       "      <td>E</td>\n",
       "      <td>F</td>\n",
       "      <td>0</td>\n",
       "      <td>No Deposit</td>\n",
       "      <td>0</td>\n",
       "      <td>Transient</td>\n",
       "      <td>81.0</td>\n",
       "      <td>1</td>\n",
       "      <td>0</td>\n",
       "      <td>2016-02-14</td>\n",
       "    </tr>\n",
       "    <tr>\n",
       "      <th>1</th>\n",
       "      <td>City Hotel</td>\n",
       "      <td>1</td>\n",
       "      <td>50</td>\n",
       "      <td>2016</td>\n",
       "      <td>November</td>\n",
       "      <td>47</td>\n",
       "      <td>18</td>\n",
       "      <td>1</td>\n",
       "      <td>2</td>\n",
       "      <td>2</td>\n",
       "      <td>...</td>\n",
       "      <td>A</td>\n",
       "      <td>A</td>\n",
       "      <td>0</td>\n",
       "      <td>No Deposit</td>\n",
       "      <td>0</td>\n",
       "      <td>Transient</td>\n",
       "      <td>93.6</td>\n",
       "      <td>0</td>\n",
       "      <td>2</td>\n",
       "      <td>2016-10-09</td>\n",
       "    </tr>\n",
       "    <tr>\n",
       "      <th>2</th>\n",
       "      <td>City Hotel</td>\n",
       "      <td>0</td>\n",
       "      <td>14</td>\n",
       "      <td>2015</td>\n",
       "      <td>September</td>\n",
       "      <td>37</td>\n",
       "      <td>7</td>\n",
       "      <td>1</td>\n",
       "      <td>5</td>\n",
       "      <td>2</td>\n",
       "      <td>...</td>\n",
       "      <td>F</td>\n",
       "      <td>F</td>\n",
       "      <td>0</td>\n",
       "      <td>No Deposit</td>\n",
       "      <td>0</td>\n",
       "      <td>Contract</td>\n",
       "      <td>166.0</td>\n",
       "      <td>0</td>\n",
       "      <td>3</td>\n",
       "      <td>2015-09-13</td>\n",
       "    </tr>\n",
       "    <tr>\n",
       "      <th>3</th>\n",
       "      <td>City Hotel</td>\n",
       "      <td>0</td>\n",
       "      <td>18</td>\n",
       "      <td>2015</td>\n",
       "      <td>December</td>\n",
       "      <td>50</td>\n",
       "      <td>6</td>\n",
       "      <td>2</td>\n",
       "      <td>0</td>\n",
       "      <td>2</td>\n",
       "      <td>...</td>\n",
       "      <td>A</td>\n",
       "      <td>A</td>\n",
       "      <td>0</td>\n",
       "      <td>No Deposit</td>\n",
       "      <td>0</td>\n",
       "      <td>Transient</td>\n",
       "      <td>107.0</td>\n",
       "      <td>0</td>\n",
       "      <td>0</td>\n",
       "      <td>2015-12-08</td>\n",
       "    </tr>\n",
       "    <tr>\n",
       "      <th>4</th>\n",
       "      <td>City Hotel</td>\n",
       "      <td>1</td>\n",
       "      <td>263</td>\n",
       "      <td>2016</td>\n",
       "      <td>September</td>\n",
       "      <td>40</td>\n",
       "      <td>29</td>\n",
       "      <td>2</td>\n",
       "      <td>4</td>\n",
       "      <td>2</td>\n",
       "      <td>...</td>\n",
       "      <td>A</td>\n",
       "      <td>A</td>\n",
       "      <td>0</td>\n",
       "      <td>No Deposit</td>\n",
       "      <td>0</td>\n",
       "      <td>Transient</td>\n",
       "      <td>100.3</td>\n",
       "      <td>0</td>\n",
       "      <td>0</td>\n",
       "      <td>2016-01-18</td>\n",
       "    </tr>\n",
       "  </tbody>\n",
       "</table>\n",
       "<p>5 rows × 29 columns</p>\n",
       "</div>"
      ],
      "text/plain": [
       "          hotel  is_canceled  lead_time  arrival_date_year arrival_date_month  \\\n",
       "0  Resort Hotel            0          3               2016           February   \n",
       "1    City Hotel            1         50               2016           November   \n",
       "2    City Hotel            0         14               2015          September   \n",
       "3    City Hotel            0         18               2015           December   \n",
       "4    City Hotel            1        263               2016          September   \n",
       "\n",
       "   arrival_date_week_number  arrival_date_day_of_month  \\\n",
       "0                         7                         12   \n",
       "1                        47                         18   \n",
       "2                        37                          7   \n",
       "3                        50                          6   \n",
       "4                        40                         29   \n",
       "\n",
       "   stays_in_weekend_nights  stays_in_week_nights  adults  ...  \\\n",
       "0                        0                     2       2  ...   \n",
       "1                        1                     2       2  ...   \n",
       "2                        1                     5       2  ...   \n",
       "3                        2                     0       2  ...   \n",
       "4                        2                     4       2  ...   \n",
       "\n",
       "   reserved_room_type  assigned_room_type booking_changes deposit_type  \\\n",
       "0                   E                   F               0   No Deposit   \n",
       "1                   A                   A               0   No Deposit   \n",
       "2                   F                   F               0   No Deposit   \n",
       "3                   A                   A               0   No Deposit   \n",
       "4                   A                   A               0   No Deposit   \n",
       "\n",
       "  days_in_waiting_list customer_type    adr  required_car_parking_spaces  \\\n",
       "0                    0     Transient   81.0                            1   \n",
       "1                    0     Transient   93.6                            0   \n",
       "2                    0      Contract  166.0                            0   \n",
       "3                    0     Transient  107.0                            0   \n",
       "4                    0     Transient  100.3                            0   \n",
       "\n",
       "   total_of_special_requests reservation_status_date  \n",
       "0                          0              2016-02-14  \n",
       "1                          2              2016-10-09  \n",
       "2                          3              2015-09-13  \n",
       "3                          0              2015-12-08  \n",
       "4                          0              2016-01-18  \n",
       "\n",
       "[5 rows x 29 columns]"
      ]
     },
     "execution_count": 121,
     "metadata": {},
     "output_type": "execute_result"
    }
   ],
   "source": [
    "train.head()"
   ]
  },
  {
   "cell_type": "code",
   "execution_count": 122,
   "id": "f025080e",
   "metadata": {},
   "outputs": [
    {
     "data": {
      "text/html": [
       "<div>\n",
       "<style scoped>\n",
       "    .dataframe tbody tr th:only-of-type {\n",
       "        vertical-align: middle;\n",
       "    }\n",
       "\n",
       "    .dataframe tbody tr th {\n",
       "        vertical-align: top;\n",
       "    }\n",
       "\n",
       "    .dataframe thead th {\n",
       "        text-align: right;\n",
       "    }\n",
       "</style>\n",
       "<table border=\"1\" class=\"dataframe\">\n",
       "  <thead>\n",
       "    <tr style=\"text-align: right;\">\n",
       "      <th></th>\n",
       "      <th>hotel</th>\n",
       "      <th>lead_time</th>\n",
       "      <th>arrival_date_year</th>\n",
       "      <th>arrival_date_month</th>\n",
       "      <th>arrival_date_week_number</th>\n",
       "      <th>arrival_date_day_of_month</th>\n",
       "      <th>stays_in_weekend_nights</th>\n",
       "      <th>stays_in_week_nights</th>\n",
       "      <th>adults</th>\n",
       "      <th>children</th>\n",
       "      <th>...</th>\n",
       "      <th>reserved_room_type</th>\n",
       "      <th>assigned_room_type</th>\n",
       "      <th>booking_changes</th>\n",
       "      <th>deposit_type</th>\n",
       "      <th>days_in_waiting_list</th>\n",
       "      <th>customer_type</th>\n",
       "      <th>adr</th>\n",
       "      <th>required_car_parking_spaces</th>\n",
       "      <th>total_of_special_requests</th>\n",
       "      <th>reservation_status_date</th>\n",
       "    </tr>\n",
       "  </thead>\n",
       "  <tbody>\n",
       "    <tr>\n",
       "      <th>0</th>\n",
       "      <td>City Hotel</td>\n",
       "      <td>73</td>\n",
       "      <td>2016</td>\n",
       "      <td>July</td>\n",
       "      <td>28</td>\n",
       "      <td>6</td>\n",
       "      <td>0</td>\n",
       "      <td>2</td>\n",
       "      <td>1</td>\n",
       "      <td>0.0</td>\n",
       "      <td>...</td>\n",
       "      <td>A</td>\n",
       "      <td>A</td>\n",
       "      <td>0</td>\n",
       "      <td>No Deposit</td>\n",
       "      <td>0</td>\n",
       "      <td>Transient</td>\n",
       "      <td>107.10</td>\n",
       "      <td>0</td>\n",
       "      <td>0</td>\n",
       "      <td>2016-06-12</td>\n",
       "    </tr>\n",
       "    <tr>\n",
       "      <th>1</th>\n",
       "      <td>City Hotel</td>\n",
       "      <td>37</td>\n",
       "      <td>2015</td>\n",
       "      <td>October</td>\n",
       "      <td>43</td>\n",
       "      <td>24</td>\n",
       "      <td>2</td>\n",
       "      <td>5</td>\n",
       "      <td>1</td>\n",
       "      <td>1.0</td>\n",
       "      <td>...</td>\n",
       "      <td>A</td>\n",
       "      <td>A</td>\n",
       "      <td>0</td>\n",
       "      <td>No Deposit</td>\n",
       "      <td>0</td>\n",
       "      <td>Transient</td>\n",
       "      <td>87.78</td>\n",
       "      <td>0</td>\n",
       "      <td>0</td>\n",
       "      <td>2015-10-31</td>\n",
       "    </tr>\n",
       "    <tr>\n",
       "      <th>2</th>\n",
       "      <td>City Hotel</td>\n",
       "      <td>190</td>\n",
       "      <td>2017</td>\n",
       "      <td>April</td>\n",
       "      <td>14</td>\n",
       "      <td>6</td>\n",
       "      <td>2</td>\n",
       "      <td>3</td>\n",
       "      <td>2</td>\n",
       "      <td>0.0</td>\n",
       "      <td>...</td>\n",
       "      <td>A</td>\n",
       "      <td>A</td>\n",
       "      <td>0</td>\n",
       "      <td>No Deposit</td>\n",
       "      <td>0</td>\n",
       "      <td>Transient</td>\n",
       "      <td>88.40</td>\n",
       "      <td>0</td>\n",
       "      <td>0</td>\n",
       "      <td>2016-09-29</td>\n",
       "    </tr>\n",
       "    <tr>\n",
       "      <th>3</th>\n",
       "      <td>City Hotel</td>\n",
       "      <td>287</td>\n",
       "      <td>2016</td>\n",
       "      <td>August</td>\n",
       "      <td>35</td>\n",
       "      <td>24</td>\n",
       "      <td>1</td>\n",
       "      <td>4</td>\n",
       "      <td>2</td>\n",
       "      <td>0.0</td>\n",
       "      <td>...</td>\n",
       "      <td>B</td>\n",
       "      <td>B</td>\n",
       "      <td>1</td>\n",
       "      <td>No Deposit</td>\n",
       "      <td>0</td>\n",
       "      <td>Transient</td>\n",
       "      <td>76.71</td>\n",
       "      <td>0</td>\n",
       "      <td>0</td>\n",
       "      <td>2016-08-29</td>\n",
       "    </tr>\n",
       "    <tr>\n",
       "      <th>4</th>\n",
       "      <td>Resort Hotel</td>\n",
       "      <td>386</td>\n",
       "      <td>2016</td>\n",
       "      <td>October</td>\n",
       "      <td>43</td>\n",
       "      <td>20</td>\n",
       "      <td>1</td>\n",
       "      <td>3</td>\n",
       "      <td>2</td>\n",
       "      <td>0.0</td>\n",
       "      <td>...</td>\n",
       "      <td>A</td>\n",
       "      <td>A</td>\n",
       "      <td>0</td>\n",
       "      <td>No Deposit</td>\n",
       "      <td>0</td>\n",
       "      <td>Transient-Party</td>\n",
       "      <td>49.00</td>\n",
       "      <td>0</td>\n",
       "      <td>0</td>\n",
       "      <td>2016-09-14</td>\n",
       "    </tr>\n",
       "  </tbody>\n",
       "</table>\n",
       "<p>5 rows × 28 columns</p>\n",
       "</div>"
      ],
      "text/plain": [
       "          hotel  lead_time  arrival_date_year arrival_date_month  \\\n",
       "0    City Hotel         73               2016               July   \n",
       "1    City Hotel         37               2015            October   \n",
       "2    City Hotel        190               2017              April   \n",
       "3    City Hotel        287               2016             August   \n",
       "4  Resort Hotel        386               2016            October   \n",
       "\n",
       "   arrival_date_week_number  arrival_date_day_of_month  \\\n",
       "0                        28                          6   \n",
       "1                        43                         24   \n",
       "2                        14                          6   \n",
       "3                        35                         24   \n",
       "4                        43                         20   \n",
       "\n",
       "   stays_in_weekend_nights  stays_in_week_nights  adults  children  ...  \\\n",
       "0                        0                     2       1       0.0  ...   \n",
       "1                        2                     5       1       1.0  ...   \n",
       "2                        2                     3       2       0.0  ...   \n",
       "3                        1                     4       2       0.0  ...   \n",
       "4                        1                     3       2       0.0  ...   \n",
       "\n",
       "   reserved_room_type assigned_room_type booking_changes deposit_type  \\\n",
       "0                   A                  A               0   No Deposit   \n",
       "1                   A                  A               0   No Deposit   \n",
       "2                   A                  A               0   No Deposit   \n",
       "3                   B                  B               1   No Deposit   \n",
       "4                   A                  A               0   No Deposit   \n",
       "\n",
       "  days_in_waiting_list    customer_type     adr  required_car_parking_spaces  \\\n",
       "0                    0        Transient  107.10                            0   \n",
       "1                    0        Transient   87.78                            0   \n",
       "2                    0        Transient   88.40                            0   \n",
       "3                    0        Transient   76.71                            0   \n",
       "4                    0  Transient-Party   49.00                            0   \n",
       "\n",
       "  total_of_special_requests reservation_status_date  \n",
       "0                         0              2016-06-12  \n",
       "1                         0              2015-10-31  \n",
       "2                         0              2016-09-29  \n",
       "3                         0              2016-08-29  \n",
       "4                         0              2016-09-14  \n",
       "\n",
       "[5 rows x 28 columns]"
      ]
     },
     "execution_count": 122,
     "metadata": {},
     "output_type": "execute_result"
    }
   ],
   "source": [
    "test.head()"
   ]
  },
  {
   "cell_type": "raw",
   "id": "bafb75d2",
   "metadata": {},
   "source": []
  },
  {
   "cell_type": "code",
   "execution_count": 107,
   "id": "6332066f",
   "metadata": {},
   "outputs": [
    {
     "name": "stdout",
     "output_type": "stream",
     "text": [
      "(44638, 29) (23525, 28)\n"
     ]
    }
   ],
   "source": [
    "print(train.shape, test.shape)"
   ]
  },
  {
   "cell_type": "code",
   "execution_count": 83,
   "id": "b9452fbe",
   "metadata": {},
   "outputs": [
    {
     "name": "stdout",
     "output_type": "stream",
     "text": [
      "hotel                             0\n",
      "is_canceled                       0\n",
      "lead_time                         0\n",
      "arrival_date_year                 0\n",
      "arrival_date_month                0\n",
      "arrival_date_week_number          0\n",
      "arrival_date_day_of_month         0\n",
      "stays_in_weekend_nights           0\n",
      "stays_in_week_nights              0\n",
      "adults                            0\n",
      "children                          0\n",
      "babies                            0\n",
      "meal                              0\n",
      "country                           0\n",
      "market_segment                    0\n",
      "distribution_channel              0\n",
      "is_repeated_guest                 0\n",
      "previous_cancellations            0\n",
      "previous_bookings_not_canceled    0\n",
      "reserved_room_type                0\n",
      "assigned_room_type                0\n",
      "booking_changes                   0\n",
      "deposit_type                      0\n",
      "days_in_waiting_list              0\n",
      "customer_type                     0\n",
      "adr                               0\n",
      "required_car_parking_spaces       0\n",
      "total_of_special_requests         0\n",
      "reservation_status_date           0\n",
      "dtype: int64\n"
     ]
    }
   ],
   "source": [
    "print(train.isna().sum())"
   ]
  },
  {
   "cell_type": "code",
   "execution_count": 84,
   "id": "da76be66",
   "metadata": {},
   "outputs": [
    {
     "name": "stdout",
     "output_type": "stream",
     "text": [
      "hotel                             0\n",
      "lead_time                         0\n",
      "arrival_date_year                 0\n",
      "arrival_date_month                0\n",
      "arrival_date_week_number          0\n",
      "arrival_date_day_of_month         0\n",
      "stays_in_weekend_nights           0\n",
      "stays_in_week_nights              0\n",
      "adults                            0\n",
      "children                          0\n",
      "babies                            0\n",
      "meal                              0\n",
      "country                           0\n",
      "market_segment                    0\n",
      "distribution_channel              0\n",
      "is_repeated_guest                 0\n",
      "previous_cancellations            0\n",
      "previous_bookings_not_canceled    0\n",
      "reserved_room_type                0\n",
      "assigned_room_type                0\n",
      "booking_changes                   0\n",
      "deposit_type                      0\n",
      "days_in_waiting_list              0\n",
      "customer_type                     0\n",
      "adr                               0\n",
      "required_car_parking_spaces       0\n",
      "total_of_special_requests         0\n",
      "reservation_status_date           0\n",
      "dtype: int64\n"
     ]
    }
   ],
   "source": [
    "print(test.isna().sum())"
   ]
  },
  {
   "cell_type": "code",
   "execution_count": 85,
   "id": "7b577d4a",
   "metadata": {},
   "outputs": [
    {
     "name": "stdout",
     "output_type": "stream",
     "text": [
      "<class 'pandas.core.frame.DataFrame'>\n",
      "RangeIndex: 44638 entries, 0 to 44637\n",
      "Data columns (total 29 columns):\n",
      " #   Column                          Non-Null Count  Dtype  \n",
      "---  ------                          --------------  -----  \n",
      " 0   hotel                           44638 non-null  object \n",
      " 1   is_canceled                     44638 non-null  int64  \n",
      " 2   lead_time                       44638 non-null  int64  \n",
      " 3   arrival_date_year               44638 non-null  int64  \n",
      " 4   arrival_date_month              44638 non-null  object \n",
      " 5   arrival_date_week_number        44638 non-null  int64  \n",
      " 6   arrival_date_day_of_month       44638 non-null  int64  \n",
      " 7   stays_in_weekend_nights         44638 non-null  int64  \n",
      " 8   stays_in_week_nights            44638 non-null  int64  \n",
      " 9   adults                          44638 non-null  int64  \n",
      " 10  children                        44638 non-null  float64\n",
      " 11  babies                          44638 non-null  int64  \n",
      " 12  meal                            44638 non-null  object \n",
      " 13  country                         44638 non-null  object \n",
      " 14  market_segment                  44638 non-null  object \n",
      " 15  distribution_channel            44638 non-null  object \n",
      " 16  is_repeated_guest               44638 non-null  int64  \n",
      " 17  previous_cancellations          44638 non-null  int64  \n",
      " 18  previous_bookings_not_canceled  44638 non-null  int64  \n",
      " 19  reserved_room_type              44638 non-null  object \n",
      " 20  assigned_room_type              44638 non-null  object \n",
      " 21  booking_changes                 44638 non-null  int64  \n",
      " 22  deposit_type                    44638 non-null  object \n",
      " 23  days_in_waiting_list            44638 non-null  int64  \n",
      " 24  customer_type                   44638 non-null  object \n",
      " 25  adr                             44638 non-null  float64\n",
      " 26  required_car_parking_spaces     44638 non-null  int64  \n",
      " 27  total_of_special_requests       44638 non-null  int64  \n",
      " 28  reservation_status_date         44638 non-null  object \n",
      "dtypes: float64(2), int64(16), object(11)\n",
      "memory usage: 9.9+ MB\n"
     ]
    }
   ],
   "source": [
    "train.info()"
   ]
  },
  {
   "cell_type": "code",
   "execution_count": 86,
   "id": "a02e4740",
   "metadata": {},
   "outputs": [
    {
     "name": "stdout",
     "output_type": "stream",
     "text": [
      "<class 'pandas.core.frame.DataFrame'>\n",
      "RangeIndex: 23525 entries, 0 to 23524\n",
      "Data columns (total 28 columns):\n",
      " #   Column                          Non-Null Count  Dtype  \n",
      "---  ------                          --------------  -----  \n",
      " 0   hotel                           23525 non-null  object \n",
      " 1   lead_time                       23525 non-null  int64  \n",
      " 2   arrival_date_year               23525 non-null  int64  \n",
      " 3   arrival_date_month              23525 non-null  object \n",
      " 4   arrival_date_week_number        23525 non-null  int64  \n",
      " 5   arrival_date_day_of_month       23525 non-null  int64  \n",
      " 6   stays_in_weekend_nights         23525 non-null  int64  \n",
      " 7   stays_in_week_nights            23525 non-null  int64  \n",
      " 8   adults                          23525 non-null  int64  \n",
      " 9   children                        23525 non-null  float64\n",
      " 10  babies                          23525 non-null  int64  \n",
      " 11  meal                            23525 non-null  object \n",
      " 12  country                         23525 non-null  object \n",
      " 13  market_segment                  23525 non-null  object \n",
      " 14  distribution_channel            23525 non-null  object \n",
      " 15  is_repeated_guest               23525 non-null  int64  \n",
      " 16  previous_cancellations          23525 non-null  int64  \n",
      " 17  previous_bookings_not_canceled  23525 non-null  int64  \n",
      " 18  reserved_room_type              23525 non-null  object \n",
      " 19  assigned_room_type              23525 non-null  object \n",
      " 20  booking_changes                 23525 non-null  int64  \n",
      " 21  deposit_type                    23525 non-null  object \n",
      " 22  days_in_waiting_list            23525 non-null  int64  \n",
      " 23  customer_type                   23525 non-null  object \n",
      " 24  adr                             23525 non-null  float64\n",
      " 25  required_car_parking_spaces     23525 non-null  int64  \n",
      " 26  total_of_special_requests       23525 non-null  int64  \n",
      " 27  reservation_status_date         23525 non-null  object \n",
      "dtypes: float64(2), int64(15), object(11)\n",
      "memory usage: 5.0+ MB\n"
     ]
    }
   ],
   "source": [
    "test.info()"
   ]
  },
  {
   "cell_type": "code",
   "execution_count": 123,
   "id": "9e1c28de",
   "metadata": {},
   "outputs": [
    {
     "data": {
      "image/png": "[encoded data removed]",
      "text/plain": [
       "<Figure size 432x288 with 1 Axes>"
      ]
     },
     "metadata": {
      "needs_background": "light"
     },
     "output_type": "display_data"
    }
   ],
   "source": [
    "data_balans = pd.DataFrame(train['is_canceled'])\n",
    "sns.countplot(x = 'is_canceled',data = data_balans)\n",
    "plt.show()"
   ]
  },
  {
   "cell_type": "code",
   "execution_count": 88,
   "id": "e1c613e3",
   "metadata": {},
   "outputs": [
    {
     "data": {
      "text/html": [
       "<div>\n",
       "<style scoped>\n",
       "    .dataframe tbody tr th:only-of-type {\n",
       "        vertical-align: middle;\n",
       "    }\n",
       "\n",
       "    .dataframe tbody tr th {\n",
       "        vertical-align: top;\n",
       "    }\n",
       "\n",
       "    .dataframe thead th {\n",
       "        text-align: right;\n",
       "    }\n",
       "</style>\n",
       "<table border=\"1\" class=\"dataframe\">\n",
       "  <thead>\n",
       "    <tr style=\"text-align: right;\">\n",
       "      <th></th>\n",
       "      <th>hotel</th>\n",
       "      <th>arrival_date_month</th>\n",
       "      <th>meal</th>\n",
       "      <th>country</th>\n",
       "      <th>market_segment</th>\n",
       "      <th>distribution_channel</th>\n",
       "      <th>reserved_room_type</th>\n",
       "      <th>assigned_room_type</th>\n",
       "      <th>deposit_type</th>\n",
       "      <th>customer_type</th>\n",
       "      <th>reservation_status_date</th>\n",
       "    </tr>\n",
       "  </thead>\n",
       "  <tbody>\n",
       "    <tr>\n",
       "      <th>0</th>\n",
       "      <td>Resort Hotel</td>\n",
       "      <td>February</td>\n",
       "      <td>BB</td>\n",
       "      <td>PRT</td>\n",
       "      <td>Direct</td>\n",
       "      <td>Direct</td>\n",
       "      <td>E</td>\n",
       "      <td>F</td>\n",
       "      <td>No Deposit</td>\n",
       "      <td>Transient</td>\n",
       "      <td>2016-02-14</td>\n",
       "    </tr>\n",
       "    <tr>\n",
       "      <th>1</th>\n",
       "      <td>City Hotel</td>\n",
       "      <td>November</td>\n",
       "      <td>BB</td>\n",
       "      <td>BEL</td>\n",
       "      <td>Online TA</td>\n",
       "      <td>TA/TO</td>\n",
       "      <td>A</td>\n",
       "      <td>A</td>\n",
       "      <td>No Deposit</td>\n",
       "      <td>Transient</td>\n",
       "      <td>2016-10-09</td>\n",
       "    </tr>\n",
       "    <tr>\n",
       "      <th>2</th>\n",
       "      <td>City Hotel</td>\n",
       "      <td>September</td>\n",
       "      <td>BB</td>\n",
       "      <td>ITA</td>\n",
       "      <td>Online TA</td>\n",
       "      <td>TA/TO</td>\n",
       "      <td>F</td>\n",
       "      <td>F</td>\n",
       "      <td>No Deposit</td>\n",
       "      <td>Contract</td>\n",
       "      <td>2015-09-13</td>\n",
       "    </tr>\n",
       "    <tr>\n",
       "      <th>3</th>\n",
       "      <td>City Hotel</td>\n",
       "      <td>December</td>\n",
       "      <td>BB</td>\n",
       "      <td>ESP</td>\n",
       "      <td>Online TA</td>\n",
       "      <td>TA/TO</td>\n",
       "      <td>A</td>\n",
       "      <td>A</td>\n",
       "      <td>No Deposit</td>\n",
       "      <td>Transient</td>\n",
       "      <td>2015-12-08</td>\n",
       "    </tr>\n",
       "    <tr>\n",
       "      <th>4</th>\n",
       "      <td>City Hotel</td>\n",
       "      <td>September</td>\n",
       "      <td>BB</td>\n",
       "      <td>DEU</td>\n",
       "      <td>Online TA</td>\n",
       "      <td>TA/TO</td>\n",
       "      <td>A</td>\n",
       "      <td>A</td>\n",
       "      <td>No Deposit</td>\n",
       "      <td>Transient</td>\n",
       "      <td>2016-01-18</td>\n",
       "    </tr>\n",
       "    <tr>\n",
       "      <th>...</th>\n",
       "      <td>...</td>\n",
       "      <td>...</td>\n",
       "      <td>...</td>\n",
       "      <td>...</td>\n",
       "      <td>...</td>\n",
       "      <td>...</td>\n",
       "      <td>...</td>\n",
       "      <td>...</td>\n",
       "      <td>...</td>\n",
       "      <td>...</td>\n",
       "      <td>...</td>\n",
       "    </tr>\n",
       "    <tr>\n",
       "      <th>44633</th>\n",
       "      <td>City Hotel</td>\n",
       "      <td>June</td>\n",
       "      <td>BB</td>\n",
       "      <td>JPN</td>\n",
       "      <td>Online TA</td>\n",
       "      <td>TA/TO</td>\n",
       "      <td>D</td>\n",
       "      <td>D</td>\n",
       "      <td>No Deposit</td>\n",
       "      <td>Transient</td>\n",
       "      <td>2017-06-28</td>\n",
       "    </tr>\n",
       "    <tr>\n",
       "      <th>44634</th>\n",
       "      <td>Resort Hotel</td>\n",
       "      <td>September</td>\n",
       "      <td>BB</td>\n",
       "      <td>GBR</td>\n",
       "      <td>Online TA</td>\n",
       "      <td>TA/TO</td>\n",
       "      <td>E</td>\n",
       "      <td>F</td>\n",
       "      <td>No Deposit</td>\n",
       "      <td>Transient</td>\n",
       "      <td>2015-10-03</td>\n",
       "    </tr>\n",
       "    <tr>\n",
       "      <th>44635</th>\n",
       "      <td>City Hotel</td>\n",
       "      <td>April</td>\n",
       "      <td>SC</td>\n",
       "      <td>PRT</td>\n",
       "      <td>Online TA</td>\n",
       "      <td>TA/TO</td>\n",
       "      <td>A</td>\n",
       "      <td>A</td>\n",
       "      <td>No Deposit</td>\n",
       "      <td>Transient</td>\n",
       "      <td>2017-02-09</td>\n",
       "    </tr>\n",
       "    <tr>\n",
       "      <th>44636</th>\n",
       "      <td>City Hotel</td>\n",
       "      <td>September</td>\n",
       "      <td>HB</td>\n",
       "      <td>NOR</td>\n",
       "      <td>Offline TA/TO</td>\n",
       "      <td>TA/TO</td>\n",
       "      <td>A</td>\n",
       "      <td>A</td>\n",
       "      <td>No Deposit</td>\n",
       "      <td>Transient-Party</td>\n",
       "      <td>2016-09-12</td>\n",
       "    </tr>\n",
       "    <tr>\n",
       "      <th>44637</th>\n",
       "      <td>City Hotel</td>\n",
       "      <td>November</td>\n",
       "      <td>BB</td>\n",
       "      <td>PRT</td>\n",
       "      <td>Corporate</td>\n",
       "      <td>Corporate</td>\n",
       "      <td>A</td>\n",
       "      <td>A</td>\n",
       "      <td>No Deposit</td>\n",
       "      <td>Transient-Party</td>\n",
       "      <td>2015-11-18</td>\n",
       "    </tr>\n",
       "  </tbody>\n",
       "</table>\n",
       "<p>44638 rows × 11 columns</p>\n",
       "</div>"
      ],
      "text/plain": [
       "              hotel arrival_date_month meal country market_segment  \\\n",
       "0      Resort Hotel           February   BB     PRT         Direct   \n",
       "1        City Hotel           November   BB     BEL      Online TA   \n",
       "2        City Hotel          September   BB     ITA      Online TA   \n",
       "3        City Hotel           December   BB     ESP      Online TA   \n",
       "4        City Hotel          September   BB     DEU      Online TA   \n",
       "...             ...                ...  ...     ...            ...   \n",
       "44633    City Hotel               June   BB     JPN      Online TA   \n",
       "44634  Resort Hotel          September   BB     GBR      Online TA   \n",
       "44635    City Hotel              April   SC     PRT      Online TA   \n",
       "44636    City Hotel          September   HB     NOR  Offline TA/TO   \n",
       "44637    City Hotel           November   BB     PRT      Corporate   \n",
       "\n",
       "      distribution_channel reserved_room_type assigned_room_type deposit_type  \\\n",
       "0                   Direct                  E                  F   No Deposit   \n",
       "1                    TA/TO                  A                  A   No Deposit   \n",
       "2                    TA/TO                  F                  F   No Deposit   \n",
       "3                    TA/TO                  A                  A   No Deposit   \n",
       "4                    TA/TO                  A                  A   No Deposit   \n",
       "...                    ...                ...                ...          ...   \n",
       "44633                TA/TO                  D                  D   No Deposit   \n",
       "44634                TA/TO                  E                  F   No Deposit   \n",
       "44635                TA/TO                  A                  A   No Deposit   \n",
       "44636                TA/TO                  A                  A   No Deposit   \n",
       "44637            Corporate                  A                  A   No Deposit   \n",
       "\n",
       "         customer_type reservation_status_date  \n",
       "0            Transient              2016-02-14  \n",
       "1            Transient              2016-10-09  \n",
       "2             Contract              2015-09-13  \n",
       "3            Transient              2015-12-08  \n",
       "4            Transient              2016-01-18  \n",
       "...                ...                     ...  \n",
       "44633        Transient              2017-06-28  \n",
       "44634        Transient              2015-10-03  \n",
       "44635        Transient              2017-02-09  \n",
       "44636  Transient-Party              2016-09-12  \n",
       "44637  Transient-Party              2015-11-18  \n",
       "\n",
       "[44638 rows x 11 columns]"
      ]
     },
     "execution_count": 88,
     "metadata": {},
     "output_type": "execute_result"
    }
   ],
   "source": [
    "train.loc[:, train.dtypes=='object']"
   ]
  },
  {
   "cell_type": "code",
   "execution_count": 93,
   "id": "05754424",
   "metadata": {},
   "outputs": [
    {
     "data": {
      "text/plain": [
       "Index(['hotel', 'arrival_date_month', 'meal', 'country', 'market_segment',\n",
       "       'distribution_channel', 'reserved_room_type', 'assigned_room_type',\n",
       "       'deposit_type', 'customer_type', 'reservation_status_date'],\n",
       "      dtype='object')"
      ]
     },
     "execution_count": 93,
     "metadata": {},
     "output_type": "execute_result"
    }
   ],
   "source": [
    "catergorial_features_test = test.loc[:, train.dtypes=='object'].columns\n",
    "catergorial_features_test"
   ]
  },
  {
   "cell_type": "raw",
   "id": "f4ee6bae",
   "metadata": {},
   "source": [
    "catergorial_features_train = train.loc[:, train.dtypes=='object'].columns\n",
    "catergorial_features_train"
   ]
  },
  {
   "cell_type": "code",
   "execution_count": 141,
   "id": "7f26750e",
   "metadata": {},
   "outputs": [],
   "source": [
    "train = train.drop(columns = ['country','meal','reservation_status_date','reserved_room_type','distribution_channel','hotel','assigned_room_type'])"
   ]
  },
  {
   "cell_type": "code",
   "execution_count": 142,
   "id": "cacbc00c",
   "metadata": {},
   "outputs": [],
   "source": [
    "test = test.drop(columns = ['country','meal','reservation_status_date','reserved_room_type','distribution_channel','hotel','assigned_room_type'])"
   ]
  },
  {
   "cell_type": "code",
   "execution_count": 143,
   "id": "c9e4cad9",
   "metadata": {},
   "outputs": [
    {
     "name": "stdout",
     "output_type": "stream",
     "text": [
      "(44638, 22) (23525, 21)\n"
     ]
    }
   ],
   "source": [
    "print(train.shape, test.shape)"
   ]
  },
  {
   "cell_type": "code",
   "execution_count": 144,
   "id": "24c8add3",
   "metadata": {},
   "outputs": [],
   "source": [
    "train = train.drop(columns = ['customer_type'])\n",
    "test = test.drop(columns = ['customer_type'])"
   ]
  },
  {
   "cell_type": "code",
   "execution_count": 145,
   "id": "0476fbdc",
   "metadata": {},
   "outputs": [
    {
     "name": "stdout",
     "output_type": "stream",
     "text": [
      "(44638, 21) (23525, 20)\n"
     ]
    }
   ],
   "source": [
    "print(train.shape, test.shape)"
   ]
  },
  {
   "cell_type": "code",
   "execution_count": 146,
   "id": "acd78902",
   "metadata": {},
   "outputs": [],
   "source": [
    "from sklearn.preprocessing import LabelEncoder\n",
    "\n",
    "label_encoder = LabelEncoder()\n",
    "\n",
    "label_encoder.fit(train['arrival_date_month'])\n",
    "\n",
    "train['arrival_date_month'] = label_encoder.transform(train['arrival_date_month'])\n",
    "test['arrival_date_month'] = label_encoder.transform(test['arrival_date_month'])"
   ]
  },
  {
   "cell_type": "code",
   "execution_count": 147,
   "id": "252bfe2d",
   "metadata": {},
   "outputs": [
    {
     "name": "stdout",
     "output_type": "stream",
     "text": [
      "(44638, 21) (23525, 20)\n"
     ]
    }
   ],
   "source": [
    "print(train.shape, test.shape)"
   ]
  },
  {
   "cell_type": "code",
   "execution_count": 148,
   "id": "8fd5145e",
   "metadata": {},
   "outputs": [
    {
     "data": {
      "text/plain": [
       "Index(['market_segment', 'deposit_type'], dtype='object')"
      ]
     },
     "execution_count": 148,
     "metadata": {},
     "output_type": "execute_result"
    }
   ],
   "source": [
    "test.loc[:, test.dtypes == 'object'].columns"
   ]
  },
  {
   "cell_type": "code",
   "execution_count": 149,
   "id": "0830202e",
   "metadata": {},
   "outputs": [],
   "source": [
    "train = pd.get_dummies(train, columns=['market_segment', 'deposit_type'])\n"
   ]
  },
  {
   "cell_type": "code",
   "execution_count": 150,
   "id": "159f8cfe",
   "metadata": {},
   "outputs": [],
   "source": [
    "test = pd.get_dummies(test, columns=['market_segment', 'deposit_type'])"
   ]
  },
  {
   "cell_type": "code",
   "execution_count": 151,
   "id": "04e33d6a",
   "metadata": {},
   "outputs": [
    {
     "data": {
      "text/plain": [
       "(44638, 29)"
      ]
     },
     "execution_count": 151,
     "metadata": {},
     "output_type": "execute_result"
    }
   ],
   "source": [
    "train.shape"
   ]
  },
  {
   "cell_type": "code",
   "execution_count": 152,
   "id": "08e15fc1",
   "metadata": {},
   "outputs": [
    {
     "data": {
      "text/plain": [
       "is_canceled                         int64\n",
       "lead_time                           int64\n",
       "arrival_date_year                   int64\n",
       "arrival_date_month                  int32\n",
       "arrival_date_week_number            int64\n",
       "arrival_date_day_of_month           int64\n",
       "stays_in_weekend_nights             int64\n",
       "stays_in_week_nights                int64\n",
       "adults                              int64\n",
       "children                          float64\n",
       "babies                              int64\n",
       "is_repeated_guest                   int64\n",
       "previous_cancellations              int64\n",
       "previous_bookings_not_canceled      int64\n",
       "booking_changes                     int64\n",
       "days_in_waiting_list                int64\n",
       "adr                               float64\n",
       "required_car_parking_spaces         int64\n",
       "total_of_special_requests           int64\n",
       "market_segment_Aviation             uint8\n",
       "market_segment_Complementary        uint8\n",
       "market_segment_Corporate            uint8\n",
       "market_segment_Direct               uint8\n",
       "market_segment_Groups               uint8\n",
       "market_segment_Offline TA/TO        uint8\n",
       "market_segment_Online TA            uint8\n",
       "deposit_type_No Deposit             uint8\n",
       "deposit_type_Non Refund             uint8\n",
       "deposit_type_Refundable             uint8\n",
       "dtype: object"
      ]
     },
     "execution_count": 152,
     "metadata": {},
     "output_type": "execute_result"
    }
   ],
   "source": [
    "train.dtypes"
   ]
  },
  {
   "cell_type": "code",
   "execution_count": 153,
   "id": "f4161385",
   "metadata": {},
   "outputs": [
    {
     "data": {
      "text/plain": [
       "(23525, 28)"
      ]
     },
     "execution_count": 153,
     "metadata": {},
     "output_type": "execute_result"
    }
   ],
   "source": [
    "test.shape"
   ]
  },
  {
   "cell_type": "code",
   "execution_count": 154,
   "id": "b6693da5",
   "metadata": {},
   "outputs": [],
   "source": [
    "X = train.drop(columns=['is_canceled'])\n",
    "y = train['is_canceled']"
   ]
  },
  {
   "cell_type": "code",
   "execution_count": 155,
   "id": "5a377728",
   "metadata": {},
   "outputs": [
    {
     "name": "stderr",
     "output_type": "stream",
     "text": [
      "D:\\prodramm\\IT\\Anaconda\\lib\\site-packages\\sklearn\\linear_model\\_logistic.py:814: ConvergenceWarning: lbfgs failed to converge (status=1):\n",
      "STOP: TOTAL NO. of ITERATIONS REACHED LIMIT.\n",
      "\n",
      "Increase the number of iterations (max_iter) or scale the data as shown in:\n",
      "    https://scikit-learn.org/stable/modules/preprocessing.html\n",
      "Please also refer to the documentation for alternative solver options:\n",
      "    https://scikit-learn.org/stable/modules/linear_model.html#logistic-regression\n",
      "  n_iter_i = _check_optimize_result(\n"
     ]
    }
   ],
   "source": [
    "from sklearn.linear_model import LogisticRegression\n",
    "\n",
    "model = LogisticRegression()\n",
    "\n",
    "model.fit(X,y)\n",
    "\n",
    "pred = model.predict(X)"
   ]
  },
  {
   "cell_type": "code",
   "execution_count": 156,
   "id": "b44d8d0d",
   "metadata": {},
   "outputs": [
    {
     "name": "stdout",
     "output_type": "stream",
     "text": [
      "0.8044043191899278\n",
      "0.4619090635350798\n",
      "0.794921621971758\n"
     ]
    }
   ],
   "source": [
    "from sklearn.metrics import accuracy_score, precision_score, recall_score\n",
    "\n",
    "print(accuracy_score(pred, y))\n",
    "print(precision_score(pred, y))\n",
    "print(recall_score(pred, y))"
   ]
  },
  {
   "cell_type": "code",
   "execution_count": 157,
   "id": "2cace579",
   "metadata": {},
   "outputs": [],
   "source": [
    "test_pred = model.predict(test)"
   ]
  },
  {
   "cell_type": "code",
   "execution_count": 158,
   "id": "6e1ee6f1",
   "metadata": {},
   "outputs": [],
   "source": [
    "test_pred = pd.DataFrame(test_pred, columns=['is_canceled'])\n",
    "\n",
    "test_pred = test_pred.reset_index()\n",
    "\n",
    "test_pred.to_csv('solution.csv', index=False)"
   ]
  },
  {
   "cell_type": "code",
   "execution_count": null,
   "id": "e6bc3fa2",
   "metadata": {},
   "outputs": [],
   "source": []
  }
 ],
 "metadata": {
  "kernelspec": {
   "display_name": "Python 3 (ipykernel)",
   "language": "python",
   "name": "python3"
  },
  "language_info": {
   "codemirror_mode": {
    "name": "ipython",
    "version": 3
   },
   "file_extension": ".py",
   "mimetype": "text/x-python",
   "name": "python",
   "nbconvert_exporter": "python",
   "pygments_lexer": "ipython3",
   "version": "3.9.12"
  }
 },
 "nbformat": 4,
 "nbformat_minor": 5
}
